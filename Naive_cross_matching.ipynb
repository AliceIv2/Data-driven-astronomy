{
 "cells": [
  {
   "cell_type": "markdown",
   "metadata": {},
   "source": [
    "# Data-Driven Astronomy #2 "
   ]
  },
  {
   "cell_type": "code",
   "execution_count": 2,
   "metadata": {},
   "outputs": [],
   "source": [
    "#imports \n",
    "import numpy as np"
   ]
  },
  {
   "cell_type": "markdown",
   "metadata": {},
   "source": [
    "## Converting to decimal degrees"
   ]
  },
  {
   "cell_type": "code",
   "execution_count": 1,
   "metadata": {},
   "outputs": [],
   "source": [
    "def hms2dec(h, m, s):\n",
    "    return 15*(h + m/60 + s/3600)\n",
    "\n",
    "def dms2dec(d, m, s):\n",
    "    sign = d/abs(d)\n",
    "    return sign*(abs(d) + m/60 + s/3600)"
   ]
  },
  {
   "cell_type": "markdown",
   "metadata": {},
   "source": [
    "## Angular distance"
   ]
  },
  {
   "cell_type": "code",
   "execution_count": null,
   "metadata": {},
   "outputs": [],
   "source": [
    "def angular_dist(RA1, dec1, RA2, dec2):\n",
    "    \n",
    "    # Convert to radians\n",
    "    r1 = np.radians(RA1)\n",
    "    d1 = np.radians(dec1)\n",
    "    r2 = np.radians(RA2)\n",
    "    d2 = np.radians(dec2)\n",
    "\n",
    "    a = np.sin(np.abs(d1 - d2)/2)**2\n",
    "    b = np.cos(d1)*np.cos(d2)*np.sin(np.abs(r1 - r2)/2)**2\n",
    "\n",
    "    angle = 2*np.arcsin(np.sqrt(a + b))\n",
    "    \n",
    "    # Convert back to degrees\n",
    "    return np.degrees(angle)"
   ]
  },
  {
   "cell_type": "markdown",
   "metadata": {},
   "source": [
    "## Loading catalogues"
   ]
  },
  {
   "cell_type": "code",
   "execution_count": 3,
   "metadata": {},
   "outputs": [],
   "source": [
    "def import_bss():\n",
    "    res = []\n",
    "    data = np.loadtxt('bss.dat', usecols=range(1, 7))\n",
    "    for i, row in enumerate(data, 1):\n",
    "        res.append((i, hms2dec(row[0], row[1], row[2]), dms2dec(row[3], row[4], row[5])))\n",
    "    return res\n",
    "\n",
    "def import_super():\n",
    "    data = np.loadtxt('super.csv', delimiter=',', skiprows=1, usecols=(0, 1))\n",
    "    res = []\n",
    "    for i, row in enumerate(data, 1):\n",
    "        res.append((i, row[0], row[1]))\n",
    "    return res"
   ]
  },
  {
   "cell_type": "markdown",
   "metadata": {},
   "source": [
    "## Full cross-match"
   ]
  },
  {
   "cell_type": "code",
   "execution_count": 4,
   "metadata": {},
   "outputs": [],
   "source": [
    "def crossmatch(cat1, cat2, max_radius):\n",
    "    matches = []\n",
    "    no_matches = []\n",
    "    for id1, ra1, dec1 in cat1:\n",
    "        closest_dist = np.inf\n",
    "        closest_id2 = None\n",
    "        for id2, ra2, dec2 in cat2:\n",
    "            dist = angular_dist(ra1, dec1, ra2, dec2)\n",
    "            if dist < closest_dist:\n",
    "                closest_id2 = id2\n",
    "                closest_dist = dist\n",
    "        \n",
    "        # Ignore match if it's outside the maximum radius\n",
    "        if closest_dist > max_radius:\n",
    "            no_matches.append(id1)\n",
    "        else:\n",
    "            matches.append((id1, closest_id2, closest_dist))\n",
    "\n",
    "    return matches, no_matches"
   ]
  },
  {
   "cell_type": "markdown",
   "metadata": {},
   "source": [
    "## Creating a random catalogue"
   ]
  },
  {
   "cell_type": "code",
   "execution_count": 5,
   "metadata": {},
   "outputs": [],
   "source": [
    "def create_cat(n):\n",
    "    ras = np.random.uniform(0, 360, size=(n, 1))\n",
    "    decs = np.random.uniform(-90, 90, size=(n, 1))\n",
    "    return np.hstack((ras, decs))"
   ]
  },
  {
   "cell_type": "code",
   "execution_count": null,
   "metadata": {},
   "outputs": [],
   "source": []
  }
 ],
 "metadata": {
  "kernelspec": {
   "display_name": "Python 3",
   "language": "python",
   "name": "python3"
  },
  "language_info": {
   "codemirror_mode": {
    "name": "ipython",
    "version": 3
   },
   "file_extension": ".py",
   "mimetype": "text/x-python",
   "name": "python",
   "nbconvert_exporter": "python",
   "pygments_lexer": "ipython3",
   "version": "3.8.0"
  }
 },
 "nbformat": 4,
 "nbformat_minor": 4
}
