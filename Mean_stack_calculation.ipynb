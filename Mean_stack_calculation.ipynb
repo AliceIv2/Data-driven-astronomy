{
 "cells": [
  {
   "cell_type": "markdown",
   "metadata": {},
   "source": [
    "# Data-Driven Astronomy "
   ]
  },
  {
   "cell_type": "code",
   "execution_count": 1,
   "metadata": {},
   "outputs": [],
   "source": [
    "#imports \n",
    "\n",
    "import numpy as np \n",
    "from astropy.io import fits\n"
   ]
  },
  {
   "cell_type": "markdown",
   "metadata": {},
   "source": [
    "## Calculating the mean stack "
   ]
  },
  {
   "cell_type": "code",
   "execution_count": 3,
   "metadata": {},
   "outputs": [],
   "source": [
    "def calculate_mean(l):\n",
    "\n",
    "    t  =len(l)\n",
    "    s = sum(l)\n",
    "    return s/t"
   ]
  },
  {
   "cell_type": "code",
   "execution_count": 4,
   "metadata": {},
   "outputs": [],
   "source": [
    "def calc_stats(file):\n",
    "    \n",
    "    data = np.loadtxt(file, delimiter =',')\n",
    "  \n",
    "    mean = np.mean(data)\n",
    "    median = np.median(data)\n",
    "  \n",
    "    mean = np.round(mean, 1)\n",
    "    median = np.round(median, 1)\n",
    "  \n",
    "    return mean, median"
   ]
  },
  {
   "cell_type": "code",
   "execution_count": 5,
   "metadata": {},
   "outputs": [],
   "source": [
    "def mean_datasets(file):\n",
    "  \n",
    "    n = len(file)\n",
    "    if n > 0:\n",
    "        data = np.loadtxt(file[0], delimiter=',')\n",
    "        for i in range(1,n):\n",
    "              data += np.loadtxt(file[i], delimiter=',')\n",
    "      \n",
    "    data_mean = data/n\n",
    "      \n",
    "    return np.round(data_mean, 1)"
   ]
  },
  {
   "cell_type": "code",
   "execution_count": 6,
   "metadata": {},
   "outputs": [],
   "source": [
    "def mean_fits(files):\n",
    "    n = len(files)\n",
    "    if n > 0:\n",
    "    \n",
    "        hdulist = fits.open(files[0])\n",
    "        data = hdulist[0].data\n",
    "        hdulist.close()\n",
    "    \n",
    "        for i in range(1, n):\n",
    "            hdulist = fits.open(files[i])\n",
    "            data += hdulist[0].data\n",
    "            hdulist.close()\n",
    "    \n",
    "    mean = data / n\n",
    "    return mean"
   ]
  },
  {
   "cell_type": "code",
   "execution_count": null,
   "metadata": {},
   "outputs": [],
   "source": []
  }
 ],
 "metadata": {
  "kernelspec": {
   "display_name": "Python 3",
   "language": "python",
   "name": "python3"
  },
  "language_info": {
   "codemirror_mode": {
    "name": "ipython",
    "version": 3
   },
   "file_extension": ".py",
   "mimetype": "text/x-python",
   "name": "python",
   "nbconvert_exporter": "python",
   "pygments_lexer": "ipython3",
   "version": "3.8.0"
  }
 },
 "nbformat": 4,
 "nbformat_minor": 4
}
